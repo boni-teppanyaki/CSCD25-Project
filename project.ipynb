{
 "cells": [
  {
   "cell_type": "code",
   "execution_count": 2,
   "metadata": {},
   "outputs": [],
   "source": [
    "import pandas as pd\n",
    "import matplotlib.pyplot as plt"
   ]
  },
  {
   "cell_type": "markdown",
   "metadata": {},
   "source": [
    "Read dataframes from the files."
   ]
  },
  {
   "cell_type": "code",
   "execution_count": 10,
   "metadata": {},
   "outputs": [],
   "source": [
    "df_comments = pd.read_csv('main_comments.csv')"
   ]
  },
  {
   "cell_type": "code",
   "execution_count": 14,
   "metadata": {},
   "outputs": [],
   "source": [
    "df_submissions = pd.read_csv('main_submissions.csv')"
   ]
  },
  {
   "cell_type": "code",
   "execution_count": 11,
   "metadata": {
    "scrolled": true
   },
   "outputs": [
    {
     "data": {
      "text/html": [
       "<div>\n",
       "<style scoped>\n",
       "    .dataframe tbody tr th:only-of-type {\n",
       "        vertical-align: middle;\n",
       "    }\n",
       "\n",
       "    .dataframe tbody tr th {\n",
       "        vertical-align: top;\n",
       "    }\n",
       "\n",
       "    .dataframe thead th {\n",
       "        text-align: right;\n",
       "    }\n",
       "</style>\n",
       "<table border=\"1\" class=\"dataframe\">\n",
       "  <thead>\n",
       "    <tr style=\"text-align: right;\">\n",
       "      <th></th>\n",
       "      <th>id</th>\n",
       "      <th>score</th>\n",
       "      <th>link_id</th>\n",
       "      <th>author</th>\n",
       "      <th>subreddit</th>\n",
       "      <th>created_utc</th>\n",
       "    </tr>\n",
       "  </thead>\n",
       "  <tbody>\n",
       "    <tr>\n",
       "      <th>0</th>\n",
       "      <td>t1_gl0hhsq</td>\n",
       "      <td>1</td>\n",
       "      <td>t3_l6a44e</td>\n",
       "      <td>Io99IHkg-4QzX6xbKwbte0cuzp4=</td>\n",
       "      <td>wallstreetbets</td>\n",
       "      <td>1611788340</td>\n",
       "    </tr>\n",
       "    <tr>\n",
       "      <th>1</th>\n",
       "      <td>t1_gmd0xrl</td>\n",
       "      <td>1</td>\n",
       "      <td>t3_lehibh</td>\n",
       "      <td>1UBdU9GQvCnnXQHAcYaG1uL9V_U=</td>\n",
       "      <td>RedditSessions</td>\n",
       "      <td>1612683157</td>\n",
       "    </tr>\n",
       "    <tr>\n",
       "      <th>2</th>\n",
       "      <td>t1_gggg1ed</td>\n",
       "      <td>1</td>\n",
       "      <td>t3_kgocvo</td>\n",
       "      <td>Io99IHkg-4QzX6xbKwbte0cuzp4=</td>\n",
       "      <td>memes</td>\n",
       "      <td>1608454223</td>\n",
       "    </tr>\n",
       "    <tr>\n",
       "      <th>3</th>\n",
       "      <td>t1_g7zggfh</td>\n",
       "      <td>1</td>\n",
       "      <td>t3_j6n57d</td>\n",
       "      <td>EA1r-K5p_lVBLesLhCFRrKOPN-I=</td>\n",
       "      <td>videos</td>\n",
       "      <td>1602058834</td>\n",
       "    </tr>\n",
       "    <tr>\n",
       "      <th>4</th>\n",
       "      <td>t1_fn060jg</td>\n",
       "      <td>26</td>\n",
       "      <td>t3_fyheuv</td>\n",
       "      <td>_aeNuqWD_AT5JIfooWYpKiZR8qg=</td>\n",
       "      <td>nfl</td>\n",
       "      <td>1586536065</td>\n",
       "    </tr>\n",
       "    <tr>\n",
       "      <th>...</th>\n",
       "      <td>...</td>\n",
       "      <td>...</td>\n",
       "      <td>...</td>\n",
       "      <td>...</td>\n",
       "      <td>...</td>\n",
       "      <td>...</td>\n",
       "    </tr>\n",
       "    <tr>\n",
       "      <th>27997318</th>\n",
       "      <td>t1_f8sotb4</td>\n",
       "      <td>1</td>\n",
       "      <td>t3_e20bxb</td>\n",
       "      <td>EA1r-K5p_lVBLesLhCFRrKOPN-I=</td>\n",
       "      <td>Showerthoughts</td>\n",
       "      <td>1574785778</td>\n",
       "    </tr>\n",
       "    <tr>\n",
       "      <th>27997319</th>\n",
       "      <td>t1_eczq4gz</td>\n",
       "      <td>1</td>\n",
       "      <td>t3_abbin1</td>\n",
       "      <td>Pkz1m3vsliYpbnltUnWaQkPFLEo=</td>\n",
       "      <td>AskReddit</td>\n",
       "      <td>1546315274</td>\n",
       "    </tr>\n",
       "    <tr>\n",
       "      <th>27997320</th>\n",
       "      <td>t1_f240cz6</td>\n",
       "      <td>0</td>\n",
       "      <td>t3_dbujdv</td>\n",
       "      <td>NfwullBPKgqUPvj_Qr6RPnH1hrI=</td>\n",
       "      <td>DestinyTheGame</td>\n",
       "      <td>1569942007</td>\n",
       "    </tr>\n",
       "    <tr>\n",
       "      <th>27997321</th>\n",
       "      <td>t1_em778f3</td>\n",
       "      <td>2</td>\n",
       "      <td>t3_bj2bnd</td>\n",
       "      <td>kj12hcxGWPd3LxjKCNpoPFTDNBQ=</td>\n",
       "      <td>funny</td>\n",
       "      <td>1556683776</td>\n",
       "    </tr>\n",
       "    <tr>\n",
       "      <th>27997322</th>\n",
       "      <td>t1_efpy2wq</td>\n",
       "      <td>1</td>\n",
       "      <td>t3_amz190</td>\n",
       "      <td>vmXxzo7c6AP-ZOKZyiO3gxnxoOE=</td>\n",
       "      <td>memes</td>\n",
       "      <td>1549283237</td>\n",
       "    </tr>\n",
       "  </tbody>\n",
       "</table>\n",
       "<p>27997323 rows × 6 columns</p>\n",
       "</div>"
      ],
      "text/plain": [
       "                  id  score    link_id                        author  \\\n",
       "0         t1_gl0hhsq      1  t3_l6a44e  Io99IHkg-4QzX6xbKwbte0cuzp4=   \n",
       "1         t1_gmd0xrl      1  t3_lehibh  1UBdU9GQvCnnXQHAcYaG1uL9V_U=   \n",
       "2         t1_gggg1ed      1  t3_kgocvo  Io99IHkg-4QzX6xbKwbte0cuzp4=   \n",
       "3         t1_g7zggfh      1  t3_j6n57d  EA1r-K5p_lVBLesLhCFRrKOPN-I=   \n",
       "4         t1_fn060jg     26  t3_fyheuv  _aeNuqWD_AT5JIfooWYpKiZR8qg=   \n",
       "...              ...    ...        ...                           ...   \n",
       "27997318  t1_f8sotb4      1  t3_e20bxb  EA1r-K5p_lVBLesLhCFRrKOPN-I=   \n",
       "27997319  t1_eczq4gz      1  t3_abbin1  Pkz1m3vsliYpbnltUnWaQkPFLEo=   \n",
       "27997320  t1_f240cz6      0  t3_dbujdv  NfwullBPKgqUPvj_Qr6RPnH1hrI=   \n",
       "27997321  t1_em778f3      2  t3_bj2bnd  kj12hcxGWPd3LxjKCNpoPFTDNBQ=   \n",
       "27997322  t1_efpy2wq      1  t3_amz190  vmXxzo7c6AP-ZOKZyiO3gxnxoOE=   \n",
       "\n",
       "               subreddit  created_utc  \n",
       "0         wallstreetbets   1611788340  \n",
       "1         RedditSessions   1612683157  \n",
       "2                  memes   1608454223  \n",
       "3                 videos   1602058834  \n",
       "4                    nfl   1586536065  \n",
       "...                  ...          ...  \n",
       "27997318  Showerthoughts   1574785778  \n",
       "27997319       AskReddit   1546315274  \n",
       "27997320  DestinyTheGame   1569942007  \n",
       "27997321           funny   1556683776  \n",
       "27997322           memes   1549283237  \n",
       "\n",
       "[27997323 rows x 6 columns]"
      ]
     },
     "execution_count": 11,
     "metadata": {},
     "output_type": "execute_result"
    }
   ],
   "source": [
    "df_comments"
   ]
  },
  {
   "cell_type": "code",
   "execution_count": 12,
   "metadata": {},
   "outputs": [
    {
     "data": {
      "text/html": [
       "<div>\n",
       "<style scoped>\n",
       "    .dataframe tbody tr th:only-of-type {\n",
       "        vertical-align: middle;\n",
       "    }\n",
       "\n",
       "    .dataframe tbody tr th {\n",
       "        vertical-align: top;\n",
       "    }\n",
       "\n",
       "    .dataframe thead th {\n",
       "        text-align: right;\n",
       "    }\n",
       "</style>\n",
       "<table border=\"1\" class=\"dataframe\">\n",
       "  <thead>\n",
       "    <tr style=\"text-align: right;\">\n",
       "      <th></th>\n",
       "      <th>id</th>\n",
       "      <th>author</th>\n",
       "      <th>created_utc</th>\n",
       "      <th>domain</th>\n",
       "      <th>is_self</th>\n",
       "      <th>score</th>\n",
       "      <th>subreddit</th>\n",
       "    </tr>\n",
       "  </thead>\n",
       "  <tbody>\n",
       "    <tr>\n",
       "      <th>0</th>\n",
       "      <td>t3_kby7v8</td>\n",
       "      <td>ZkakZ8xfXNiL6wUXhJhRU3Ysa7c=</td>\n",
       "      <td>1607811261</td>\n",
       "      <td>self.AskReddit</td>\n",
       "      <td>True</td>\n",
       "      <td>3</td>\n",
       "      <td>AskReddit</td>\n",
       "    </tr>\n",
       "    <tr>\n",
       "      <th>1</th>\n",
       "      <td>t3_nwccst</td>\n",
       "      <td>pQ8j9hcuty1RBfCkUutL0cy9Zco=</td>\n",
       "      <td>1623290593</td>\n",
       "      <td>i.redd.it</td>\n",
       "      <td>False</td>\n",
       "      <td>11</td>\n",
       "      <td>pics</td>\n",
       "    </tr>\n",
       "    <tr>\n",
       "      <th>2</th>\n",
       "      <td>t3_ik55fe</td>\n",
       "      <td>GH3YzjQCtBT4DkTjcxWb2-vPoa0=</td>\n",
       "      <td>1598903369</td>\n",
       "      <td>self.Market76</td>\n",
       "      <td>True</td>\n",
       "      <td>0</td>\n",
       "      <td>Market76</td>\n",
       "    </tr>\n",
       "    <tr>\n",
       "      <th>3</th>\n",
       "      <td>t3_hkl0qs</td>\n",
       "      <td>57zAuZ7GS2EvQeCSXqU19wYZgjs=</td>\n",
       "      <td>1593790032</td>\n",
       "      <td>v.redd.it</td>\n",
       "      <td>False</td>\n",
       "      <td>1</td>\n",
       "      <td>funny</td>\n",
       "    </tr>\n",
       "    <tr>\n",
       "      <th>4</th>\n",
       "      <td>t3_jdrjpp</td>\n",
       "      <td>HY8UtHbd9PNUDFmaAkm4-10hgmA=</td>\n",
       "      <td>1603066751</td>\n",
       "      <td>i.redd.it</td>\n",
       "      <td>False</td>\n",
       "      <td>578</td>\n",
       "      <td>PrequelMemes</td>\n",
       "    </tr>\n",
       "    <tr>\n",
       "      <th>...</th>\n",
       "      <td>...</td>\n",
       "      <td>...</td>\n",
       "      <td>...</td>\n",
       "      <td>...</td>\n",
       "      <td>...</td>\n",
       "      <td>...</td>\n",
       "      <td>...</td>\n",
       "    </tr>\n",
       "    <tr>\n",
       "      <th>1857436</th>\n",
       "      <td>t3_cqojdd</td>\n",
       "      <td>Io99IHkg-4QzX6xbKwbte0cuzp4=</td>\n",
       "      <td>1565868449</td>\n",
       "      <td>i.redd.it</td>\n",
       "      <td>False</td>\n",
       "      <td>1</td>\n",
       "      <td>FIFA</td>\n",
       "    </tr>\n",
       "    <tr>\n",
       "      <th>1857437</th>\n",
       "      <td>t3_amszup</td>\n",
       "      <td>Io99IHkg-4QzX6xbKwbte0cuzp4=</td>\n",
       "      <td>1549222271</td>\n",
       "      <td>i.redd.it</td>\n",
       "      <td>False</td>\n",
       "      <td>1</td>\n",
       "      <td>dankmemes</td>\n",
       "    </tr>\n",
       "    <tr>\n",
       "      <th>1857438</th>\n",
       "      <td>t3_dpfmog</td>\n",
       "      <td>cCp3C69w-4gcIYjKtvJpPmsjqdM=</td>\n",
       "      <td>1572481507</td>\n",
       "      <td>i.redd.it</td>\n",
       "      <td>False</td>\n",
       "      <td>15</td>\n",
       "      <td>teenagers</td>\n",
       "    </tr>\n",
       "    <tr>\n",
       "      <th>1857439</th>\n",
       "      <td>t3_bwulmr</td>\n",
       "      <td>2xibwTUA50T87ThesoIxnimOjKw=</td>\n",
       "      <td>1559685003</td>\n",
       "      <td>i.redd.it</td>\n",
       "      <td>False</td>\n",
       "      <td>12</td>\n",
       "      <td>aww</td>\n",
       "    </tr>\n",
       "    <tr>\n",
       "      <th>1857440</th>\n",
       "      <td>t3_cpzdu3</td>\n",
       "      <td>Io99IHkg-4QzX6xbKwbte0cuzp4=</td>\n",
       "      <td>1565730184</td>\n",
       "      <td>i.redd.it</td>\n",
       "      <td>False</td>\n",
       "      <td>1</td>\n",
       "      <td>memes</td>\n",
       "    </tr>\n",
       "  </tbody>\n",
       "</table>\n",
       "<p>1857441 rows × 7 columns</p>\n",
       "</div>"
      ],
      "text/plain": [
       "                id                        author  created_utc          domain  \\\n",
       "0        t3_kby7v8  ZkakZ8xfXNiL6wUXhJhRU3Ysa7c=   1607811261  self.AskReddit   \n",
       "1        t3_nwccst  pQ8j9hcuty1RBfCkUutL0cy9Zco=   1623290593       i.redd.it   \n",
       "2        t3_ik55fe  GH3YzjQCtBT4DkTjcxWb2-vPoa0=   1598903369   self.Market76   \n",
       "3        t3_hkl0qs  57zAuZ7GS2EvQeCSXqU19wYZgjs=   1593790032       v.redd.it   \n",
       "4        t3_jdrjpp  HY8UtHbd9PNUDFmaAkm4-10hgmA=   1603066751       i.redd.it   \n",
       "...            ...                           ...          ...             ...   \n",
       "1857436  t3_cqojdd  Io99IHkg-4QzX6xbKwbte0cuzp4=   1565868449       i.redd.it   \n",
       "1857437  t3_amszup  Io99IHkg-4QzX6xbKwbte0cuzp4=   1549222271       i.redd.it   \n",
       "1857438  t3_dpfmog  cCp3C69w-4gcIYjKtvJpPmsjqdM=   1572481507       i.redd.it   \n",
       "1857439  t3_bwulmr  2xibwTUA50T87ThesoIxnimOjKw=   1559685003       i.redd.it   \n",
       "1857440  t3_cpzdu3  Io99IHkg-4QzX6xbKwbte0cuzp4=   1565730184       i.redd.it   \n",
       "\n",
       "         is_self  score     subreddit  \n",
       "0           True      3     AskReddit  \n",
       "1          False     11          pics  \n",
       "2           True      0      Market76  \n",
       "3          False      1         funny  \n",
       "4          False    578  PrequelMemes  \n",
       "...          ...    ...           ...  \n",
       "1857436    False      1          FIFA  \n",
       "1857437    False      1     dankmemes  \n",
       "1857438    False     15     teenagers  \n",
       "1857439    False     12           aww  \n",
       "1857440    False      1         memes  \n",
       "\n",
       "[1857441 rows x 7 columns]"
      ]
     },
     "execution_count": 12,
     "metadata": {},
     "output_type": "execute_result"
    }
   ],
   "source": [
    "df_submissions"
   ]
  },
  {
   "cell_type": "markdown",
   "metadata": {},
   "source": [
    "## Data collection and cleaning"
   ]
  },
  {
   "cell_type": "markdown",
   "metadata": {},
   "source": [
    "Filter out the lines with incorrectly hashed usernames."
   ]
  },
  {
   "cell_type": "code",
   "execution_count": 35,
   "metadata": {},
   "outputs": [],
   "source": [
    "wrong_username = ['Io99IHkg-4QzX6xbKwbte0cuzp4=', 'EA1r-K5p_lVBLesLhCFRrKOPN-I=']\n",
    "filtered_df_comments = df_comments[~df_comments['author'].isin(wrong_username)]\n",
    "filtered_df_submissions = df_submissions[~df_submissions['author'].isin(wrong_username)]"
   ]
  },
  {
   "cell_type": "markdown",
   "metadata": {},
   "source": [
    "Try to figure out which subreddits are politically related."
   ]
  },
  {
   "cell_type": "code",
   "execution_count": 36,
   "metadata": {},
   "outputs": [
    {
     "name": "stdout",
     "output_type": "stream",
     "text": [
      "92\n"
     ]
    },
    {
     "data": {
      "text/plain": [
       "array(['RedditSessions', 'nfl', 'soccer', 'ukpolitics', 'AskReddit',\n",
       "       'unpopularopinion', 'news', 'memes', 'EscapefromTarkov',\n",
       "       'teenagers', 'politics', 'worldnews', 'PrequelMemes',\n",
       "       'distantsocializing', 'dankmemes', 'aww', 'Coronavirus',\n",
       "       'Showerthoughts', 'TheYouShow', 'CFB', 'Animemes', 'neoliberal',\n",
       "       'CryptoCurrency', 'europe', 'apexlegends', 'DestinyTheGame',\n",
       "       'gaming', 'HistoryMemes', 'SquaredCircle', 'videos',\n",
       "       'pcmasterrace', 'ACTrade', 'AmItheAsshole', 'NoStupidQuestions',\n",
       "       'todayilearned', 'Genshin_Impact', 'funny', 'FortNiteBR',\n",
       "       'PewdiepieSubmissions', 'Superstonk', 'barstoolsports',\n",
       "       'wallstreetbets', 'nba', 'Whatcouldgowrong', 'PublicFreakout',\n",
       "       'facepalm', 'Market76', 'relationship_advice', 'pics', 'formula1',\n",
       "       'relationships', 'WTF', 'FreeKarma4U', 'RocketLeagueExchange',\n",
       "       'gifs', 'wow', 'modernwarfare', 'mildlyinteresting',\n",
       "       'PoliticalCompassMemes', 'personalfinance', 'AskMen', 'PS5',\n",
       "       'hockey', 'pathofexile', 'baseball', 'Minecraft', 'PoliticalHumor',\n",
       "       'AskOuija', 'AnimalCrossing', 'leagueoflegends', 'RoastMe',\n",
       "       'Cricket', 'MMA', 'canada', 'Conservative', 'LivestreamFail',\n",
       "       'classicwow', 'WhitePeopleTwitter', 'movies', 'gtaonline', 'de',\n",
       "       'buildapc', 'NintendoSwitch', 'fantasyfootball', 'deadbydaylight',\n",
       "       'Brawlstars', 'pokemontrades', 'anime', 'FIFA', 'Games',\n",
       "       '2007scape', 'BlackPeopleTwitter'], dtype=object)"
      ]
     },
     "execution_count": 36,
     "metadata": {},
     "output_type": "execute_result"
    }
   ],
   "source": [
    "subreddits = filtered_df_comments['subreddit'].unique()\n",
    "print(len(subreddits))\n",
    "subreddits"
   ]
  },
  {
   "cell_type": "markdown",
   "metadata": {},
   "source": [
    "It turns out that there are only 92 different subreddits occurring, which is not a lot. For the sake of accuracy we will manually identify the\n",
    "(overtly) political subreddits. Then we filter the two dataframes with the array of political subreddits."
   ]
  },
  {
   "cell_type": "code",
   "execution_count": 29,
   "metadata": {},
   "outputs": [
    {
     "data": {
      "text/plain": [
       "['ukpolitics',\n",
       " 'news',\n",
       " 'worldnews',\n",
       " 'neoliberal',\n",
       " 'Conservative',\n",
       " 'PoliticalCompassMemes',\n",
       " 'PoliticalHumor']"
      ]
     },
     "execution_count": 29,
     "metadata": {},
     "output_type": "execute_result"
    }
   ],
   "source": [
    "political_subreddits = ['ukpolitics', 'news', 'worldnews', 'neoliberal', 'Conservative', 'PoliticalCompassMemes', 'PoliticalHumor']\n",
    "political_subreddits"
   ]
  },
  {
   "cell_type": "code",
   "execution_count": 42,
   "metadata": {},
   "outputs": [],
   "source": [
    "filtered_df_comments = filtered_df_comments[filtered_df_comments['subreddit'].isin(political_subreddits)]\n",
    "filtered_df_submissions = filtered_df_submissions[filtered_df_submissions['subreddit'].isin(political_subreddits)]"
   ]
  },
  {
   "cell_type": "markdown",
   "metadata": {},
   "source": [
    "## Distribution of GS-scores"
   ]
  },
  {
   "cell_type": "code",
   "execution_count": null,
   "metadata": {},
   "outputs": [],
   "source": []
  },
  {
   "cell_type": "markdown",
   "metadata": {},
   "source": [
    "## Longevity in communities"
   ]
  },
  {
   "cell_type": "code",
   "execution_count": null,
   "metadata": {},
   "outputs": [],
   "source": []
  },
  {
   "cell_type": "markdown",
   "metadata": {},
   "source": [
    "## Detecting political echo chambers"
   ]
  },
  {
   "cell_type": "code",
   "execution_count": null,
   "metadata": {},
   "outputs": [],
   "source": []
  }
 ],
 "metadata": {
  "kernelspec": {
   "display_name": "Python 3 (ipykernel)",
   "language": "python",
   "name": "python3"
  },
  "language_info": {
   "codemirror_mode": {
    "name": "ipython",
    "version": 3
   },
   "file_extension": ".py",
   "mimetype": "text/x-python",
   "name": "python",
   "nbconvert_exporter": "python",
   "pygments_lexer": "ipython3",
   "version": "3.11.3"
  }
 },
 "nbformat": 4,
 "nbformat_minor": 4
}
